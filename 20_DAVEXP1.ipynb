{
 "cells": [
  {
   "cell_type": "markdown",
   "metadata": {
    "id": "qLOSv365Wurq"
   },
   "source": [
    "#D11AD_20\n",
    "#EXPERIMENT 1:\n",
    "\n",
    "Aim:\n",
    "\n",
    "Tasks Performed:\n",
    "1.   Explore Top-5 Data Analytics Libraries in Python (w.r.t Features & Applications)\n",
    "2.   Explore Top-5 Data Analytics Libraries in R (w.r.t Features & Applications)\n",
    "3.   Install 2 Libraries each for Python and R\n",
    "4.   Perform simple experiments on the 2 identified libraries each for Python and R\n",
    "5.   Prepare a document with the Aim, Tasks performed, Program, Output, and Conclusion.\n"
   ]
  },
  {
   "cell_type": "markdown",
   "metadata": {
    "id": "MNeLM__AWtvI"
   },
   "source": [
    "**TASK 1:**\n",
    "\n",
    "Python is one of the most used programming languages for data analysis and machine learning. It is accepted by most data scientists.\n",
    "\n",
    "**NumPy** – It means Numerical Python. It performs scientific operations and all the stuff related to single or higher dimensional arrays. It consists of a multidimensional array of objects and a collection of routines to perform those operations.\n",
    "\n",
    "Features and Applications:\n",
    "\n",
    "*   A powerful N-dimensional array object\n",
    "*   Sophisticated (broadcasting) functions\n",
    "*   Arbitrary data types can be defined using Numpy\n",
    "*   NumPy can be used to perform a wide variety of mathematical operations on arrays.\n",
    "*   It adds powerful data structures to Python that guarantee efficient calculations with arrays and matrices.\n",
    "*   It supplies an enormous library of high-level mathematical functions that operate on these arrays and matrices.\n",
    "\n",
    "**Pandas** - It is an open-source library which is extensively being used by data scientist all over the globe to perform data analysis and data manipulation, it is built on top of python programming language.\n",
    "\n",
    "\n",
    "*   Pandas is fast, flexible, and very powerful\n",
    "*  List itemCan read files like CSV, excel, ,SQL etc\n",
    "*   Handle high-performance datasets.\n",
    "*   According to need, we can perform data segmentation and segregation\n",
    "*   Dataset cleaning, handling missing values, handling outliers, etc.\n",
    "\n",
    "**SciPy** - SciPy is an open-source library that is used for solving scientific, mathematical, and technical problems. SciPy is built on top of the python Numpy extension. It contains a variety of sub-packages for different applications.\n",
    "\n",
    "\n",
    "*  The SciPy library supports integration, gradient optimization, special functions, ordinary differential equation solvers, parallel programming tools, and many more.\n",
    "*  SciPy implementation exists in every complex numerical computation.\n",
    "*  Use descriptive statistics from SciPy’s stats module to gain insights into the dataset.\n",
    "*  Used to calculate measures such as mean, median, standard deviation, skewness, kurtosis, etc.\n",
    "\n",
    "**Scikit-Learn** - Scikit Learn is the most useful library for Machine Learning in Python. It is an industry-standard for most data science projects.\n",
    "\n",
    "\n",
    "*   It is a simple and very fast tool for predictive data analysis and statistically modeling\n",
    "*   This library is built using python on top of NumPy,  SciPy, and matplotlib.\n",
    "*   Some of the scikit learn features include Regression,  Classification,  Clustering, Dimensionality Reduction using only a few lines of code.\n",
    "\n",
    "**Keras** - Keras is a great python library that is used to train deep learning models. Keras leverages various optimization techniques to make high level neural network API easier and more performant.\n",
    "\n",
    "\n",
    "*   It is user friendly framework which runs on both CPU and GPU.\n",
    "*  Highly scalability of computation.\n",
    "*  It supports multiple platforms and backends.\n",
    "\n",
    "**TASK 2:**\n",
    "\n",
    "R is a popular choice for data science and statistical analysis, and many R packages are available that provide a wide range of tools and functions for working with data.\n",
    "\n",
    "**dyplr** - dplyr is one of the most used libraries from the tidyverse set of libraries. It is mainly used for data manipulation in R. Dplyr is actually built around these 5 functions i.e. Select, Filter, Arrange, Mutate, Summarize. These functions make up the majority of the data manipulation you tend to do. You can work with local data frames as well as with remote database tables.\n",
    "\n",
    "**Ggplot2**: Is the one of the best library for data visualization in R. The ggplot2 library implements a “grammar of graphics”.This approach gives us a coherent way to produce visualizations by expressing relationships between the attributes of data and their graphical representation.\n",
    "\n",
    "**Shiny** : When you want to share your stuff with people around you and make it easier for them to understand and explore it visually, you can use shiny.Shiny makes it easier to build interactive web apps. You can host standalone apps on a webpage\n",
    "\n",
    "**Knitr** : This package is used for dynamic report generation in R. The purpose of knitr is to allow reproducible research in R through the means of Literate Programming.\n",
    "\n",
    "**Lubridate** : It’s mainly used for data wrangling. It makes the dealing of date-time easier in R. You can do everything you ever wanted to do with date arithmetic using this library, although understanding & using available functionality can be somewhat complex here."
   ]
  },
  {
   "cell_type": "markdown",
   "metadata": {
    "id": "V1aG8wKXX_KR"
   },
   "source": [
    "**TASK 3:**\n",
    "Install 2 Libraries each for Python and R\n",
    "\n",
    "Python- SciPy, Numpy\n",
    "\n",
    "\n",
    "R- dyplr, ggplot"
   ]
  },
  {
   "cell_type": "code",
   "execution_count": null,
   "metadata": {
    "colab": {
     "base_uri": "https://localhost:8080/"
    },
    "id": "_Zwmj7zNWsd3",
    "outputId": "3f35b4f7-4c02-412d-8a46-d8d3693db457"
   },
   "outputs": [
    {
     "name": "stdout",
     "output_type": "stream",
     "text": [
      "Requirement already satisfied: Scipy in /usr/local/lib/python3.10/dist-packages (1.11.4)\n",
      "Requirement already satisfied: numpy<1.28.0,>=1.21.6 in /usr/local/lib/python3.10/dist-packages (from Scipy) (1.23.5)\n",
      "Requirement already satisfied: numpy in /usr/local/lib/python3.10/dist-packages (1.23.5)\n"
     ]
    }
   ],
   "source": [
    "#Python\n",
    "!pip install Scipy\n",
    "!pip install numpy"
   ]
  },
  {
   "cell_type": "code",
   "execution_count": null,
   "metadata": {
    "colab": {
     "base_uri": "https://localhost:8080/"
    },
    "id": "lyVYeMpLYrVd",
    "outputId": "f436f29a-d232-428b-f517-80d154ae4d06"
   },
   "outputs": [
    {
     "name": "stderr",
     "output_type": "stream",
     "text": [
      "Installing package into ‘/usr/local/lib/R/site-library’\n",
      "(as ‘lib’ is unspecified)\n",
      "\n",
      "Installing package into ‘/usr/local/lib/R/site-library’\n",
      "(as ‘lib’ is unspecified)\n",
      "\n"
     ]
    }
   ],
   "source": [
    "#R\n",
    "install.packages(\"dplyr\")\n",
    "install.packages(\"ggplot2\")"
   ]
  },
  {
   "cell_type": "markdown",
   "metadata": {
    "id": "lgJdlxqhcV-c"
   },
   "source": [
    "**Task 4:**\n",
    "Perform simple experiments on the 2 identified libraries each for Python and R"
   ]
  },
  {
   "cell_type": "code",
   "execution_count": null,
   "metadata": {
    "colab": {
     "base_uri": "https://localhost:8080/"
    },
    "id": "fHXH950FcW3M",
    "outputId": "28b73e51-e15d-466c-a761-eec1b9933d19"
   },
   "outputs": [
    {
     "data": {
      "text/plain": [
       "-7.0"
      ]
     },
     "execution_count": 1,
     "metadata": {},
     "output_type": "execute_result"
    }
   ],
   "source": [
    "#Python\n",
    "from scipy import linalg\n",
    "import numpy as np\n",
    "\n",
    "two_d_array = np.array([ [4,5], [3,2] ])\n",
    "\n",
    "linalg.det( two_d_array )"
   ]
  },
  {
   "cell_type": "code",
   "execution_count": null,
   "metadata": {
    "colab": {
     "base_uri": "https://localhost:8080/",
     "height": 663
    },
    "id": "bxk8MeBGYsbj",
    "outputId": "8facb55b-9961-4f3b-b911-daee8ac96211"
   },
   "outputs": [
    {
     "name": "stderr",
     "output_type": "stream",
     "text": [
      "\n",
      "Attaching package: ‘dplyr’\n",
      "\n",
      "\n",
      "The following objects are masked from ‘package:stats’:\n",
      "\n",
      "    filter, lag\n",
      "\n",
      "\n",
      "The following objects are masked from ‘package:base’:\n",
      "\n",
      "    intersect, setdiff, setequal, union\n",
      "\n",
      "\n"
     ]
    },
    {
     "data": {
      "text/plain": [
       "      mpg             cyl             disp             hp       \n",
       " Min.   :10.40   Min.   :4.000   Min.   : 71.1   Min.   : 52.0  \n",
       " 1st Qu.:15.43   1st Qu.:4.000   1st Qu.:120.8   1st Qu.: 96.5  \n",
       " Median :19.20   Median :6.000   Median :196.3   Median :123.0  \n",
       " Mean   :20.09   Mean   :6.188   Mean   :230.7   Mean   :146.7  \n",
       " 3rd Qu.:22.80   3rd Qu.:8.000   3rd Qu.:326.0   3rd Qu.:180.0  \n",
       " Max.   :33.90   Max.   :8.000   Max.   :472.0   Max.   :335.0  \n",
       "      drat             wt             qsec             vs        \n",
       " Min.   :2.760   Min.   :1.513   Min.   :14.50   Min.   :0.0000  \n",
       " 1st Qu.:3.080   1st Qu.:2.581   1st Qu.:16.89   1st Qu.:0.0000  \n",
       " Median :3.695   Median :3.325   Median :17.71   Median :0.0000  \n",
       " Mean   :3.597   Mean   :3.217   Mean   :17.85   Mean   :0.4375  \n",
       " 3rd Qu.:3.920   3rd Qu.:3.610   3rd Qu.:18.90   3rd Qu.:1.0000  \n",
       " Max.   :4.930   Max.   :5.424   Max.   :22.90   Max.   :1.0000  \n",
       "       am              gear            carb      \n",
       " Min.   :0.0000   Min.   :3.000   Min.   :1.000  \n",
       " 1st Qu.:0.0000   1st Qu.:3.000   1st Qu.:2.000  \n",
       " Median :0.0000   Median :4.000   Median :2.000  \n",
       " Mean   :0.4062   Mean   :3.688   Mean   :2.812  \n",
       " 3rd Qu.:1.0000   3rd Qu.:4.000   3rd Qu.:4.000  \n",
       " Max.   :1.0000   Max.   :5.000   Max.   :8.000  "
      ]
     },
     "metadata": {},
     "output_type": "display_data"
    }
   ],
   "source": [
    "#R\n",
    "library(dplyr)\n",
    "library(ggplot2)\n",
    "summary(mtcars)\n"
   ]
  },
  {
   "cell_type": "code",
   "execution_count": null,
   "metadata": {
    "colab": {
     "base_uri": "https://localhost:8080/",
     "height": 437
    },
    "id": "L80xO8XVeDTw",
    "outputId": "243bc25a-57ad-4695-e123-7deadfe112d5"
   },
   "outputs": [
    {
     "data": {
      "image/png": "[encoded data removed]",
      "text/plain": [
       "plot without title"
      ]
     },
     "metadata": {
      "image/png": {
       "height": 420,
       "width": 420
      }
     },
     "output_type": "display_data"
    }
   ],
   "source": [
    "ggplot(data = mtcars, aes(x = hp, y = mpg, col = disp)) +\n",
    "  geom_point() +\n",
    "  labs(title = \"Miles per Gallon vs Horsepower\",\n",
    "       x = \"Horsepower\",\n",
    "       y = \"Miles per Gallon\")"
   ]
  },
  {
   "cell_type": "markdown",
   "metadata": {
    "id": "PJi8Jc2zpmC3"
   },
   "source": [
    "#Conclusion:\n",
    "\n",
    "Identified the Data Analytics Libraries in Python and R\n",
    "\n",
    "Performed simple experiments with these libraries in Python and R"
   ]
  }
 ],
 "metadata": {
  "colab": {
   "provenance": []
  },
  "kernelspec": {
   "display_name": "Python 3 (ipykernel)",
   "language": "python",
   "name": "python3"
  },
  "language_info": {
   "codemirror_mode": {
    "name": "ipython",
    "version": 3
   },
   "file_extension": ".py",
   "mimetype": "text/x-python",
   "name": "python",
   "nbconvert_exporter": "python",
   "pygments_lexer": "ipython3",
   "version": "3.9.13"
  }
 },
 "nbformat": 4,
 "nbformat_minor": 1
}
